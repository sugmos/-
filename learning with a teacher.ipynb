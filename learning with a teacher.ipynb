{
 "cells": [
  {
   "cell_type": "markdown",
   "metadata": {
    "toc": true
   },
   "source": [
    "<h1>Содержание<span class=\"tocSkip\"></span></h1>\n",
    "<div class=\"toc\"><ul class=\"toc-item\"><li><span><a href=\"#Подготовка-данных\" data-toc-modified-id=\"Подготовка-данных-1\"><span class=\"toc-item-num\">1&nbsp;&nbsp;</span>Подготовка данных</a></span></li><li><span><a href=\"#Исследование-задачи\" data-toc-modified-id=\"Исследование-задачи-2\"><span class=\"toc-item-num\">2&nbsp;&nbsp;</span>Исследование задачи</a></span><ul class=\"toc-item\"><li><span><a href=\"#Подготовка-и-выбор-оптимальной-модели-без-балансирования-классов\" data-toc-modified-id=\"Подготовка-и-выбор-оптимальной-модели-без-балансирования-классов-2.1\"><span class=\"toc-item-num\">2.1&nbsp;&nbsp;</span>Подготовка и выбор оптимальной модели без балансирования классов</a></span></li></ul></li><li><span><a href=\"#Борьба-с-дисбалансом\" data-toc-modified-id=\"Борьба-с-дисбалансом-3\"><span class=\"toc-item-num\">3&nbsp;&nbsp;</span>Борьба с дисбалансом</a></span><ul class=\"toc-item\"><li><span><a href=\"#Учет-взвешивания-классов\" data-toc-modified-id=\"Учет-взвешивания-классов-3.1\"><span class=\"toc-item-num\">3.1&nbsp;&nbsp;</span>Учет взвешивания классов</a></span></li><li><span><a href=\"#Up-sampling-класса\" data-toc-modified-id=\"Up-sampling-класса-3.2\"><span class=\"toc-item-num\">3.2&nbsp;&nbsp;</span>Up-sampling класса</a></span></li><li><span><a href=\"#Down-sampling-класса\" data-toc-modified-id=\"Down-sampling-класса-3.3\"><span class=\"toc-item-num\">3.3&nbsp;&nbsp;</span>Down-sampling класса</a></span></li></ul></li><li><span><a href=\"#Тестирование-модели\" data-toc-modified-id=\"Тестирование-модели-4\"><span class=\"toc-item-num\">4&nbsp;&nbsp;</span>Тестирование модели</a></span><ul class=\"toc-item\"><li><span><a href=\"#Тестированиие-оптимальной-модели\" data-toc-modified-id=\"Тестированиие-оптимальной-модели-4.1\"><span class=\"toc-item-num\">4.1&nbsp;&nbsp;</span>Тестированиие оптимальной модели</a></span></li><li><span><a href=\"#Исследование-метрики-AUC-ROC\" data-toc-modified-id=\"Исследование-метрики-AUC-ROC-4.2\"><span class=\"toc-item-num\">4.2&nbsp;&nbsp;</span>Исследование метрики AUC-ROC</a></span></li></ul></li><li><span><a href=\"#Выводы\" data-toc-modified-id=\"Выводы-5\"><span class=\"toc-item-num\">5&nbsp;&nbsp;</span>Выводы</a></span></li><li><span><a href=\"#Чек-лист-готовности-проекта\" data-toc-modified-id=\"Чек-лист-готовности-проекта-6\"><span class=\"toc-item-num\">6&nbsp;&nbsp;</span>Чек-лист готовности проекта</a></span></li></ul></div>"
   ]
  },
  {
   "cell_type": "markdown",
   "metadata": {},
   "source": [
    "**v1. Удалена модель случайного леса. Добавлен баланс классов для линейной регрессии**"
   ]
  },
  {
   "cell_type": "markdown",
   "metadata": {},
   "source": [
    "# Отток клиентов"
   ]
  },
  {
   "cell_type": "markdown",
   "metadata": {},
   "source": [
    "Из «Бета-Банка» стали уходить клиенты. Каждый месяц. Немного, но заметно. Банковские маркетологи посчитали: сохранять текущих клиентов дешевле, чем привлекать новых.\n",
    "\n",
    "Нужно спрогнозировать, уйдёт клиент из банка в ближайшее время или нет. Вам предоставлены исторические данные о поведении клиентов и расторжении договоров с банком. \n",
    "\n",
    "Постройте модель с предельно большим значением *F1*-меры. Чтобы сдать проект успешно, нужно довести метрику до 0.59. Проверьте *F1*-меру на тестовой выборке самостоятельно.\n",
    "\n",
    "Дополнительно измеряйте *AUC-ROC*, сравнивайте её значение с *F1*-мерой.\n",
    "\n",
    "Источник данных: [https://www.kaggle.com/barelydedicated/bank-customer-churn-modeling](https://www.kaggle.com/barelydedicated/bank-customer-churn-modeling)"
   ]
  },
  {
   "cell_type": "markdown",
   "metadata": {},
   "source": [
    "Описание параметров:\n",
    "* RowNumber — индекс строки в данных\n",
    "* CustomerId — уникальный идентификатор клиента\n",
    "* Surname — фамилия\n",
    "* CreditScore — кредитный рейтинг\n",
    "* Geography — страна проживания\n",
    "* Gender — пол\n",
    "* Age — возраст\n",
    "* Tenure — сколько лет человек является клиентом банка\n",
    "* Balance — баланс на счёте\n",
    "* NumOfProducts — количество продуктов банка, используемых клиентом\n",
    "* HasCrCard — наличие кредитной карты\n",
    "* IsActiveMember — активность клиента\n",
    "* EstimatedSalary — предполагаемая зарплата\n",
    "\n",
    "Целевой признак\n",
    "* Exited — факт ухода клиента"
   ]
  },
  {
   "cell_type": "markdown",
   "metadata": {},
   "source": [
    "## Подготовка данных"
   ]
  },
  {
   "cell_type": "code",
   "execution_count": 1,
   "metadata": {},
   "outputs": [],
   "source": [
    "import pandas as pd\n",
    "import numpy as np\n",
    "import re\n",
    "#import matplotlib\n",
    "import matplotlib.pyplot as plt\n",
    "\n",
    "from sklearn.model_selection import train_test_split\n",
    "from sklearn.preprocessing import StandardScaler\n",
    "from sklearn.utils import shuffle\n",
    "\n",
    "from sklearn.tree import DecisionTreeClassifier\n",
    "from sklearn.linear_model import LogisticRegression\n",
    "from sklearn.neighbors import KNeighborsClassifier\n",
    "from sklearn.ensemble import RandomForestClassifier\n",
    "\n",
    "from sklearn.preprocessing import OrdinalEncoder\n",
    "\n",
    "from sklearn.metrics import accuracy_score\n",
    "from sklearn.metrics import f1_score\n",
    "from sklearn.metrics import roc_auc_score\n",
    "from sklearn.metrics import precision_recall_curve\n",
    "\n",
    "from sklearn.dummy import DummyClassifier"
   ]
  },
  {
   "cell_type": "code",
   "execution_count": 2,
   "metadata": {},
   "outputs": [
    {
     "data": {
      "text/html": [
       "<div>\n",
       "<style scoped>\n",
       "    .dataframe tbody tr th:only-of-type {\n",
       "        vertical-align: middle;\n",
       "    }\n",
       "\n",
       "    .dataframe tbody tr th {\n",
       "        vertical-align: top;\n",
       "    }\n",
       "\n",
       "    .dataframe thead th {\n",
       "        text-align: right;\n",
       "    }\n",
       "</style>\n",
       "<table border=\"1\" class=\"dataframe\">\n",
       "  <thead>\n",
       "    <tr style=\"text-align: right;\">\n",
       "      <th></th>\n",
       "      <th>RowNumber</th>\n",
       "      <th>CustomerId</th>\n",
       "      <th>Surname</th>\n",
       "      <th>CreditScore</th>\n",
       "      <th>Geography</th>\n",
       "      <th>Gender</th>\n",
       "      <th>Age</th>\n",
       "      <th>Tenure</th>\n",
       "      <th>Balance</th>\n",
       "      <th>NumOfProducts</th>\n",
       "      <th>HasCrCard</th>\n",
       "      <th>IsActiveMember</th>\n",
       "      <th>EstimatedSalary</th>\n",
       "      <th>Exited</th>\n",
       "    </tr>\n",
       "  </thead>\n",
       "  <tbody>\n",
       "    <tr>\n",
       "      <th>0</th>\n",
       "      <td>1</td>\n",
       "      <td>15634602</td>\n",
       "      <td>Hargrave</td>\n",
       "      <td>619</td>\n",
       "      <td>France</td>\n",
       "      <td>Female</td>\n",
       "      <td>42</td>\n",
       "      <td>2.0</td>\n",
       "      <td>0.00</td>\n",
       "      <td>1</td>\n",
       "      <td>1</td>\n",
       "      <td>1</td>\n",
       "      <td>101348.88</td>\n",
       "      <td>1</td>\n",
       "    </tr>\n",
       "    <tr>\n",
       "      <th>1</th>\n",
       "      <td>2</td>\n",
       "      <td>15647311</td>\n",
       "      <td>Hill</td>\n",
       "      <td>608</td>\n",
       "      <td>Spain</td>\n",
       "      <td>Female</td>\n",
       "      <td>41</td>\n",
       "      <td>1.0</td>\n",
       "      <td>83807.86</td>\n",
       "      <td>1</td>\n",
       "      <td>0</td>\n",
       "      <td>1</td>\n",
       "      <td>112542.58</td>\n",
       "      <td>0</td>\n",
       "    </tr>\n",
       "    <tr>\n",
       "      <th>2</th>\n",
       "      <td>3</td>\n",
       "      <td>15619304</td>\n",
       "      <td>Onio</td>\n",
       "      <td>502</td>\n",
       "      <td>France</td>\n",
       "      <td>Female</td>\n",
       "      <td>42</td>\n",
       "      <td>8.0</td>\n",
       "      <td>159660.80</td>\n",
       "      <td>3</td>\n",
       "      <td>1</td>\n",
       "      <td>0</td>\n",
       "      <td>113931.57</td>\n",
       "      <td>1</td>\n",
       "    </tr>\n",
       "    <tr>\n",
       "      <th>3</th>\n",
       "      <td>4</td>\n",
       "      <td>15701354</td>\n",
       "      <td>Boni</td>\n",
       "      <td>699</td>\n",
       "      <td>France</td>\n",
       "      <td>Female</td>\n",
       "      <td>39</td>\n",
       "      <td>1.0</td>\n",
       "      <td>0.00</td>\n",
       "      <td>2</td>\n",
       "      <td>0</td>\n",
       "      <td>0</td>\n",
       "      <td>93826.63</td>\n",
       "      <td>0</td>\n",
       "    </tr>\n",
       "    <tr>\n",
       "      <th>4</th>\n",
       "      <td>5</td>\n",
       "      <td>15737888</td>\n",
       "      <td>Mitchell</td>\n",
       "      <td>850</td>\n",
       "      <td>Spain</td>\n",
       "      <td>Female</td>\n",
       "      <td>43</td>\n",
       "      <td>2.0</td>\n",
       "      <td>125510.82</td>\n",
       "      <td>1</td>\n",
       "      <td>1</td>\n",
       "      <td>1</td>\n",
       "      <td>79084.10</td>\n",
       "      <td>0</td>\n",
       "    </tr>\n",
       "  </tbody>\n",
       "</table>\n",
       "</div>"
      ],
      "text/plain": [
       "   RowNumber  CustomerId   Surname  CreditScore Geography  Gender  Age  \\\n",
       "0          1    15634602  Hargrave          619    France  Female   42   \n",
       "1          2    15647311      Hill          608     Spain  Female   41   \n",
       "2          3    15619304      Onio          502    France  Female   42   \n",
       "3          4    15701354      Boni          699    France  Female   39   \n",
       "4          5    15737888  Mitchell          850     Spain  Female   43   \n",
       "\n",
       "   Tenure    Balance  NumOfProducts  HasCrCard  IsActiveMember  \\\n",
       "0     2.0       0.00              1          1               1   \n",
       "1     1.0   83807.86              1          0               1   \n",
       "2     8.0  159660.80              3          1               0   \n",
       "3     1.0       0.00              2          0               0   \n",
       "4     2.0  125510.82              1          1               1   \n",
       "\n",
       "   EstimatedSalary  Exited  \n",
       "0        101348.88       1  \n",
       "1        112542.58       0  \n",
       "2        113931.57       1  \n",
       "3         93826.63       0  \n",
       "4         79084.10       0  "
      ]
     },
     "execution_count": 2,
     "metadata": {},
     "output_type": "execute_result"
    }
   ],
   "source": [
    "data = pd.read_csv('Churn.csv')\n",
    "data.head(5)"
   ]
  },
  {
   "cell_type": "markdown",
   "metadata": {},
   "source": [
    "**Вывод:** Данные содержат как цифровые значения разного масштаба, так и категориальные переменные. Необходимо провести подготовку данных"
   ]
  },
  {
   "cell_type": "code",
   "execution_count": 3,
   "metadata": {},
   "outputs": [
    {
     "name": "stdout",
     "output_type": "stream",
     "text": [
      "<class 'pandas.core.frame.DataFrame'>\n",
      "RangeIndex: 10000 entries, 0 to 9999\n",
      "Data columns (total 14 columns):\n",
      " #   Column           Non-Null Count  Dtype  \n",
      "---  ------           --------------  -----  \n",
      " 0   RowNumber        10000 non-null  int64  \n",
      " 1   CustomerId       10000 non-null  int64  \n",
      " 2   Surname          10000 non-null  object \n",
      " 3   CreditScore      10000 non-null  int64  \n",
      " 4   Geography        10000 non-null  object \n",
      " 5   Gender           10000 non-null  object \n",
      " 6   Age              10000 non-null  int64  \n",
      " 7   Tenure           9091 non-null   float64\n",
      " 8   Balance          10000 non-null  float64\n",
      " 9   NumOfProducts    10000 non-null  int64  \n",
      " 10  HasCrCard        10000 non-null  int64  \n",
      " 11  IsActiveMember   10000 non-null  int64  \n",
      " 12  EstimatedSalary  10000 non-null  float64\n",
      " 13  Exited           10000 non-null  int64  \n",
      "dtypes: float64(3), int64(8), object(3)\n",
      "memory usage: 1.1+ MB\n"
     ]
    }
   ],
   "source": [
    "data.info()"
   ]
  },
  {
   "cell_type": "code",
   "execution_count": 4,
   "metadata": {},
   "outputs": [],
   "source": [
    "# Приведем имена стольбцов к стандартному виду: уберем заглавные буквы, вставим символ подчеркивания, \n",
    "# приведем к нижнему регистру\n",
    "\n",
    "new_col_name = []\n",
    "for col_name in data.columns:\n",
    "    new_col_name.append('_'.join(re.findall('[A-Z][^A-Z]*', col_name)))\n",
    "\n",
    "data.columns=new_col_name\n",
    "data.columns=data.columns.str.lower()"
   ]
  },
  {
   "cell_type": "code",
   "execution_count": 5,
   "metadata": {},
   "outputs": [
    {
     "name": "stdout",
     "output_type": "stream",
     "text": [
      "<class 'pandas.core.frame.DataFrame'>\n",
      "RangeIndex: 10000 entries, 0 to 9999\n",
      "Data columns (total 14 columns):\n",
      " #   Column            Non-Null Count  Dtype  \n",
      "---  ------            --------------  -----  \n",
      " 0   row_number        10000 non-null  int64  \n",
      " 1   customer_id       10000 non-null  int64  \n",
      " 2   surname           10000 non-null  object \n",
      " 3   credit_score      10000 non-null  int64  \n",
      " 4   geography         10000 non-null  object \n",
      " 5   gender            10000 non-null  object \n",
      " 6   age               10000 non-null  int64  \n",
      " 7   tenure            9091 non-null   float64\n",
      " 8   balance           10000 non-null  float64\n",
      " 9   num_of_products   10000 non-null  int64  \n",
      " 10  has_cr_card       10000 non-null  int64  \n",
      " 11  is_active_member  10000 non-null  int64  \n",
      " 12  estimated_salary  10000 non-null  float64\n",
      " 13  exited            10000 non-null  int64  \n",
      "dtypes: float64(3), int64(8), object(3)\n",
      "memory usage: 1.1+ MB\n"
     ]
    }
   ],
   "source": [
    "data.info()"
   ]
  },
  {
   "cell_type": "markdown",
   "metadata": {},
   "source": [
    "Удалим пропущенные значения, так как срок сотрудничества может влиять на вероятность \n",
    "отказа от услуг банка, при этом заменить пропуски, каким-либо корректным значением, не возможно.  "
   ]
  },
  {
   "cell_type": "code",
   "execution_count": 6,
   "metadata": {},
   "outputs": [],
   "source": [
    "data = data.dropna()"
   ]
  },
  {
   "cell_type": "code",
   "execution_count": 7,
   "metadata": {},
   "outputs": [
    {
     "name": "stdout",
     "output_type": "stream",
     "text": [
      "<class 'pandas.core.frame.DataFrame'>\n",
      "Int64Index: 9091 entries, 0 to 9998\n",
      "Data columns (total 14 columns):\n",
      " #   Column            Non-Null Count  Dtype  \n",
      "---  ------            --------------  -----  \n",
      " 0   row_number        9091 non-null   int64  \n",
      " 1   customer_id       9091 non-null   int64  \n",
      " 2   surname           9091 non-null   object \n",
      " 3   credit_score      9091 non-null   int64  \n",
      " 4   geography         9091 non-null   object \n",
      " 5   gender            9091 non-null   object \n",
      " 6   age               9091 non-null   int64  \n",
      " 7   tenure            9091 non-null   float64\n",
      " 8   balance           9091 non-null   float64\n",
      " 9   num_of_products   9091 non-null   int64  \n",
      " 10  has_cr_card       9091 non-null   int64  \n",
      " 11  is_active_member  9091 non-null   int64  \n",
      " 12  estimated_salary  9091 non-null   float64\n",
      " 13  exited            9091 non-null   int64  \n",
      "dtypes: float64(3), int64(8), object(3)\n",
      "memory usage: 1.0+ MB\n"
     ]
    }
   ],
   "source": [
    "data.info()"
   ]
  },
  {
   "cell_type": "markdown",
   "metadata": {},
   "source": [
    "**Выборка данных для модели из общего датафрэйма**"
   ]
  },
  {
   "cell_type": "code",
   "execution_count": 8,
   "metadata": {},
   "outputs": [],
   "source": [
    "target = data['exited']\n",
    "data = data.drop(['exited','row_number', 'customer_id', 'surname'], axis=1)"
   ]
  },
  {
   "cell_type": "code",
   "execution_count": 9,
   "metadata": {},
   "outputs": [
    {
     "data": {
      "text/html": [
       "<div>\n",
       "<style scoped>\n",
       "    .dataframe tbody tr th:only-of-type {\n",
       "        vertical-align: middle;\n",
       "    }\n",
       "\n",
       "    .dataframe tbody tr th {\n",
       "        vertical-align: top;\n",
       "    }\n",
       "\n",
       "    .dataframe thead th {\n",
       "        text-align: right;\n",
       "    }\n",
       "</style>\n",
       "<table border=\"1\" class=\"dataframe\">\n",
       "  <thead>\n",
       "    <tr style=\"text-align: right;\">\n",
       "      <th></th>\n",
       "      <th>credit_score</th>\n",
       "      <th>geography</th>\n",
       "      <th>gender</th>\n",
       "      <th>age</th>\n",
       "      <th>tenure</th>\n",
       "      <th>balance</th>\n",
       "      <th>num_of_products</th>\n",
       "      <th>has_cr_card</th>\n",
       "      <th>is_active_member</th>\n",
       "      <th>estimated_salary</th>\n",
       "    </tr>\n",
       "  </thead>\n",
       "  <tbody>\n",
       "    <tr>\n",
       "      <th>0</th>\n",
       "      <td>619</td>\n",
       "      <td>France</td>\n",
       "      <td>Female</td>\n",
       "      <td>42</td>\n",
       "      <td>2.0</td>\n",
       "      <td>0.00</td>\n",
       "      <td>1</td>\n",
       "      <td>1</td>\n",
       "      <td>1</td>\n",
       "      <td>101348.88</td>\n",
       "    </tr>\n",
       "    <tr>\n",
       "      <th>1</th>\n",
       "      <td>608</td>\n",
       "      <td>Spain</td>\n",
       "      <td>Female</td>\n",
       "      <td>41</td>\n",
       "      <td>1.0</td>\n",
       "      <td>83807.86</td>\n",
       "      <td>1</td>\n",
       "      <td>0</td>\n",
       "      <td>1</td>\n",
       "      <td>112542.58</td>\n",
       "    </tr>\n",
       "    <tr>\n",
       "      <th>2</th>\n",
       "      <td>502</td>\n",
       "      <td>France</td>\n",
       "      <td>Female</td>\n",
       "      <td>42</td>\n",
       "      <td>8.0</td>\n",
       "      <td>159660.80</td>\n",
       "      <td>3</td>\n",
       "      <td>1</td>\n",
       "      <td>0</td>\n",
       "      <td>113931.57</td>\n",
       "    </tr>\n",
       "    <tr>\n",
       "      <th>3</th>\n",
       "      <td>699</td>\n",
       "      <td>France</td>\n",
       "      <td>Female</td>\n",
       "      <td>39</td>\n",
       "      <td>1.0</td>\n",
       "      <td>0.00</td>\n",
       "      <td>2</td>\n",
       "      <td>0</td>\n",
       "      <td>0</td>\n",
       "      <td>93826.63</td>\n",
       "    </tr>\n",
       "    <tr>\n",
       "      <th>4</th>\n",
       "      <td>850</td>\n",
       "      <td>Spain</td>\n",
       "      <td>Female</td>\n",
       "      <td>43</td>\n",
       "      <td>2.0</td>\n",
       "      <td>125510.82</td>\n",
       "      <td>1</td>\n",
       "      <td>1</td>\n",
       "      <td>1</td>\n",
       "      <td>79084.10</td>\n",
       "    </tr>\n",
       "  </tbody>\n",
       "</table>\n",
       "</div>"
      ],
      "text/plain": [
       "   credit_score geography  gender  age  tenure    balance  num_of_products  \\\n",
       "0           619    France  Female   42     2.0       0.00                1   \n",
       "1           608     Spain  Female   41     1.0   83807.86                1   \n",
       "2           502    France  Female   42     8.0  159660.80                3   \n",
       "3           699    France  Female   39     1.0       0.00                2   \n",
       "4           850     Spain  Female   43     2.0  125510.82                1   \n",
       "\n",
       "   has_cr_card  is_active_member  estimated_salary  \n",
       "0            1                 1         101348.88  \n",
       "1            0                 1         112542.58  \n",
       "2            1                 0         113931.57  \n",
       "3            0                 0          93826.63  \n",
       "4            1                 1          79084.10  "
      ]
     },
     "execution_count": 9,
     "metadata": {},
     "output_type": "execute_result"
    }
   ],
   "source": [
    "data.head(5)"
   ]
  },
  {
   "cell_type": "markdown",
   "metadata": {},
   "source": [
    "**Кодирование категориальных переменных**"
   ]
  },
  {
   "cell_type": "code",
   "execution_count": 10,
   "metadata": {},
   "outputs": [],
   "source": [
    "encoder = OrdinalEncoder()\n",
    "data_dummies = pd.DataFrame(encoder.fit_transform(data), columns=data.columns) "
   ]
  },
  {
   "cell_type": "code",
   "execution_count": 11,
   "metadata": {},
   "outputs": [
    {
     "data": {
      "text/html": [
       "<div>\n",
       "<style scoped>\n",
       "    .dataframe tbody tr th:only-of-type {\n",
       "        vertical-align: middle;\n",
       "    }\n",
       "\n",
       "    .dataframe tbody tr th {\n",
       "        vertical-align: top;\n",
       "    }\n",
       "\n",
       "    .dataframe thead th {\n",
       "        text-align: right;\n",
       "    }\n",
       "</style>\n",
       "<table border=\"1\" class=\"dataframe\">\n",
       "  <thead>\n",
       "    <tr style=\"text-align: right;\">\n",
       "      <th></th>\n",
       "      <th>credit_score</th>\n",
       "      <th>age</th>\n",
       "      <th>tenure</th>\n",
       "      <th>balance</th>\n",
       "      <th>num_of_products</th>\n",
       "      <th>has_cr_card</th>\n",
       "      <th>is_active_member</th>\n",
       "      <th>estimated_salary</th>\n",
       "      <th>geography_France</th>\n",
       "      <th>geography_Germany</th>\n",
       "      <th>geography_Spain</th>\n",
       "      <th>gender_Female</th>\n",
       "      <th>gender_Male</th>\n",
       "    </tr>\n",
       "  </thead>\n",
       "  <tbody>\n",
       "    <tr>\n",
       "      <th>0</th>\n",
       "      <td>619</td>\n",
       "      <td>42</td>\n",
       "      <td>2.0</td>\n",
       "      <td>0.00</td>\n",
       "      <td>1</td>\n",
       "      <td>1</td>\n",
       "      <td>1</td>\n",
       "      <td>101348.88</td>\n",
       "      <td>1</td>\n",
       "      <td>0</td>\n",
       "      <td>0</td>\n",
       "      <td>1</td>\n",
       "      <td>0</td>\n",
       "    </tr>\n",
       "    <tr>\n",
       "      <th>1</th>\n",
       "      <td>608</td>\n",
       "      <td>41</td>\n",
       "      <td>1.0</td>\n",
       "      <td>83807.86</td>\n",
       "      <td>1</td>\n",
       "      <td>0</td>\n",
       "      <td>1</td>\n",
       "      <td>112542.58</td>\n",
       "      <td>0</td>\n",
       "      <td>0</td>\n",
       "      <td>1</td>\n",
       "      <td>1</td>\n",
       "      <td>0</td>\n",
       "    </tr>\n",
       "    <tr>\n",
       "      <th>2</th>\n",
       "      <td>502</td>\n",
       "      <td>42</td>\n",
       "      <td>8.0</td>\n",
       "      <td>159660.80</td>\n",
       "      <td>3</td>\n",
       "      <td>1</td>\n",
       "      <td>0</td>\n",
       "      <td>113931.57</td>\n",
       "      <td>1</td>\n",
       "      <td>0</td>\n",
       "      <td>0</td>\n",
       "      <td>1</td>\n",
       "      <td>0</td>\n",
       "    </tr>\n",
       "    <tr>\n",
       "      <th>3</th>\n",
       "      <td>699</td>\n",
       "      <td>39</td>\n",
       "      <td>1.0</td>\n",
       "      <td>0.00</td>\n",
       "      <td>2</td>\n",
       "      <td>0</td>\n",
       "      <td>0</td>\n",
       "      <td>93826.63</td>\n",
       "      <td>1</td>\n",
       "      <td>0</td>\n",
       "      <td>0</td>\n",
       "      <td>1</td>\n",
       "      <td>0</td>\n",
       "    </tr>\n",
       "    <tr>\n",
       "      <th>4</th>\n",
       "      <td>850</td>\n",
       "      <td>43</td>\n",
       "      <td>2.0</td>\n",
       "      <td>125510.82</td>\n",
       "      <td>1</td>\n",
       "      <td>1</td>\n",
       "      <td>1</td>\n",
       "      <td>79084.10</td>\n",
       "      <td>0</td>\n",
       "      <td>0</td>\n",
       "      <td>1</td>\n",
       "      <td>1</td>\n",
       "      <td>0</td>\n",
       "    </tr>\n",
       "  </tbody>\n",
       "</table>\n",
       "</div>"
      ],
      "text/plain": [
       "   credit_score  age  tenure    balance  num_of_products  has_cr_card  \\\n",
       "0           619   42     2.0       0.00                1            1   \n",
       "1           608   41     1.0   83807.86                1            0   \n",
       "2           502   42     8.0  159660.80                3            1   \n",
       "3           699   39     1.0       0.00                2            0   \n",
       "4           850   43     2.0  125510.82                1            1   \n",
       "\n",
       "   is_active_member  estimated_salary  geography_France  geography_Germany  \\\n",
       "0                 1         101348.88                 1                  0   \n",
       "1                 1         112542.58                 0                  0   \n",
       "2                 0         113931.57                 1                  0   \n",
       "3                 0          93826.63                 1                  0   \n",
       "4                 1          79084.10                 0                  0   \n",
       "\n",
       "   geography_Spain  gender_Female  gender_Male  \n",
       "0                0              1            0  \n",
       "1                1              1            0  \n",
       "2                0              1            0  \n",
       "3                0              1            0  \n",
       "4                1              1            0  "
      ]
     },
     "execution_count": 11,
     "metadata": {},
     "output_type": "execute_result"
    }
   ],
   "source": [
    "data_dummies = pd.get_dummies(data)\n",
    "data_dummies.head()"
   ]
  },
  {
   "cell_type": "markdown",
   "metadata": {},
   "source": [
    "**Масштабирование числовых переменных**"
   ]
  },
  {
   "cell_type": "code",
   "execution_count": 12,
   "metadata": {},
   "outputs": [],
   "source": [
    "numeric = ['credit_score', 'age', 'tenure', 'balance', 'num_of_products', 'estimated_salary']\n",
    "\n",
    "# < напишите код здесь >\n",
    "scaler = StandardScaler()\n",
    "scaler.fit(data_dummies[numeric])\n",
    "data_dummies[numeric] = scaler.transform(data_dummies[numeric])"
   ]
  },
  {
   "cell_type": "markdown",
   "metadata": {},
   "source": [
    "Переименуем набор параметров "
   ]
  },
  {
   "cell_type": "code",
   "execution_count": 13,
   "metadata": {},
   "outputs": [],
   "source": [
    "features = data_dummies"
   ]
  },
  {
   "cell_type": "markdown",
   "metadata": {},
   "source": [
    "**Разделение выборки на обучающую валидационную и тестовую. Используем пропорцию 60:20:20** "
   ]
  },
  {
   "cell_type": "code",
   "execution_count": 14,
   "metadata": {},
   "outputs": [],
   "source": [
    "features_test_train, features_valid, target_test_train, target_valid = train_test_split(\n",
    "    features, target, test_size=0.20, random_state=12345)"
   ]
  },
  {
   "cell_type": "markdown",
   "metadata": {},
   "source": [
    "Выделим тестовую выборку:"
   ]
  },
  {
   "cell_type": "code",
   "execution_count": 15,
   "metadata": {},
   "outputs": [],
   "source": [
    "features_train, features_test, target_train, target_test = train_test_split(\n",
    "    features_test_train, target_test_train, test_size=0.25, random_state=12345)"
   ]
  },
  {
   "cell_type": "markdown",
   "metadata": {},
   "source": [
    "Проверим размер выборок"
   ]
  },
  {
   "cell_type": "code",
   "execution_count": 16,
   "metadata": {},
   "outputs": [
    {
     "data": {
      "text/plain": [
       "(5454, 13)"
      ]
     },
     "execution_count": 16,
     "metadata": {},
     "output_type": "execute_result"
    }
   ],
   "source": [
    "features_train.shape"
   ]
  },
  {
   "cell_type": "code",
   "execution_count": 17,
   "metadata": {},
   "outputs": [
    {
     "data": {
      "text/plain": [
       "(1819, 13)"
      ]
     },
     "execution_count": 17,
     "metadata": {},
     "output_type": "execute_result"
    }
   ],
   "source": [
    "features_valid.shape"
   ]
  },
  {
   "cell_type": "code",
   "execution_count": 18,
   "metadata": {},
   "outputs": [
    {
     "data": {
      "text/plain": [
       "(1818, 13)"
      ]
     },
     "execution_count": 18,
     "metadata": {},
     "output_type": "execute_result"
    }
   ],
   "source": [
    "features_test.shape"
   ]
  },
  {
   "cell_type": "markdown",
   "metadata": {},
   "source": [
    "**Вывод:** Данные подготовлены, проведено масштабирование, кодирование категориальных переменных, выделен целевой параметр. Выборка разбита на части в пропорции 60:20:20"
   ]
  },
  {
   "cell_type": "markdown",
   "metadata": {},
   "source": [
    "## Исследование задачи"
   ]
  },
  {
   "cell_type": "markdown",
   "metadata": {},
   "source": [
    "**Проверим сбалансированность класса ответов**"
   ]
  },
  {
   "cell_type": "code",
   "execution_count": 19,
   "metadata": {},
   "outputs": [
    {
     "name": "stdout",
     "output_type": "stream",
     "text": [
      "0    0.796062\n",
      "1    0.203938\n",
      "Name: exited, dtype: float64\n"
     ]
    },
    {
     "data": {
      "image/png": "[encoded data removed]",
      "text/plain": [
       "<Figure size 432x288 with 1 Axes>"
      ]
     },
     "metadata": {
      "needs_background": "light"
     },
     "output_type": "display_data"
    }
   ],
   "source": [
    "class_frequency = target.value_counts(normalize=True)\n",
    "print(class_frequency)\n",
    "class_frequency.plot(kind='bar');"
   ]
  },
  {
   "cell_type": "markdown",
   "metadata": {},
   "source": [
    "**Вывод:** Класс ответов не сбалансирован соотношение позитивных и негативных значений отличается от пропорции 50:50"
   ]
  },
  {
   "cell_type": "markdown",
   "metadata": {},
   "source": [
    "### Подготовка и выбор оптимальной модели без балансирования классов ###\n"
   ]
  },
  {
   "cell_type": "markdown",
   "metadata": {},
   "source": [
    "**Модель логистической регрессии**"
   ]
  },
  {
   "cell_type": "code",
   "execution_count": 20,
   "metadata": {},
   "outputs": [
    {
     "name": "stdout",
     "output_type": "stream",
     "text": [
      "Точность модели: 0.8185816382627817\n",
      "F1-мера: 0.32653061224489793\n"
     ]
    }
   ],
   "source": [
    "model_log_reg = None\n",
    "accuracy = 0\n",
    "\n",
    "model_log_reg = LogisticRegression(random_state=12345, solver='lbfgs', max_iter=1000)\n",
    "model_log_reg.fit(features_train, target_train)\n",
    "predicted_valid = model_log_reg.predict(features_valid)\n",
    "\n",
    "accuracy = accuracy_score(target_valid, predicted_valid)\n",
    "print('Точность модели:', accuracy)\n",
    "print('F1-мера:', f1_score(target_valid, predicted_valid))\n"
   ]
  },
  {
   "cell_type": "code",
   "execution_count": 21,
   "metadata": {},
   "outputs": [
    {
     "name": "stdout",
     "output_type": "stream",
     "text": [
      "Критерий AUC_ROC: 0.772456306733505\n"
     ]
    }
   ],
   "source": [
    "probabilities_valid = model_log_reg.predict_proba(features_test)\n",
    "probabilities_one_valid = probabilities_valid[:, 1]\n",
    "\n",
    "\n",
    "auc_roc = roc_auc_score(target_test, probabilities_one_valid)\n",
    "\n",
    "print('Критерий AUC_ROC:', auc_roc)"
   ]
  },
  {
   "cell_type": "markdown",
   "metadata": {},
   "source": [
    "**Модель решающего дерева**"
   ]
  },
  {
   "cell_type": "code",
   "execution_count": 22,
   "metadata": {},
   "outputs": [
    {
     "name": "stdout",
     "output_type": "stream",
     "text": [
      "Точность модели: 0.782847718526663\n",
      "F1-мера: 0.4754316069057104\n"
     ]
    }
   ],
   "source": [
    "model = DecisionTreeClassifier(random_state=12345)\n",
    "model.fit(features_train, target_train)\n",
    "predicted_valid = model.predict(features_valid) # получите предсказания модели\n",
    "\n",
    "\n",
    "accuracy = accuracy_score(target_valid, predicted_valid)\n",
    "print('Точность модели:', accuracy)\n",
    "print('F1-мера:', f1_score(target_valid, predicted_valid))"
   ]
  },
  {
   "cell_type": "code",
   "execution_count": 23,
   "metadata": {},
   "outputs": [
    {
     "name": "stdout",
     "output_type": "stream",
     "text": [
      "Критерий AUC_ROC: 0.6507078986587184\n"
     ]
    }
   ],
   "source": [
    "probabilities_valid = model.predict_proba(features_test)\n",
    "probabilities_one_valid = probabilities_valid[:, 1]\n",
    "\n",
    "\n",
    "auc_roc = roc_auc_score(target_test, probabilities_one_valid)\n",
    "\n",
    "print('Критерий AUC_ROC:', auc_roc)"
   ]
  },
  {
   "cell_type": "markdown",
   "metadata": {},
   "source": [
    "**Вывод:** Проведено обучение двух моделей классификации:  \n",
    " * Логистическая регрессия\n",
    " * Решающее дерево\n",
    "\n",
    "Лучшая модель - логистическая регрессия"
   ]
  },
  {
   "cell_type": "markdown",
   "metadata": {},
   "source": [
    "## Борьба с дисбалансом"
   ]
  },
  {
   "cell_type": "markdown",
   "metadata": {},
   "source": [
    "### Учет взвешивания классов"
   ]
  },
  {
   "cell_type": "markdown",
   "metadata": {},
   "source": [
    "Общее допущение: Поскольку класс ответов не сбалансирован, то при обучении моделей укажем параметр class_weight='balanced'."
   ]
  },
  {
   "cell_type": "code",
   "execution_count": 24,
   "metadata": {},
   "outputs": [
    {
     "name": "stdout",
     "output_type": "stream",
     "text": [
      "Точность модели: 0.7223749312809236\n",
      "F1-мера: 0.5092322643343051\n"
     ]
    }
   ],
   "source": [
    "model = LogisticRegression(random_state=12345, solver='lbfgs', max_iter=1000,  class_weight='balanced')\n",
    "model.fit(features_train, target_train)\n",
    "predicted_valid = model.predict(features_valid) # получите предсказания модели\n",
    "\n",
    "\n",
    "accuracy = accuracy_score(target_valid, predicted_valid)\n",
    "print('Точность модели:', accuracy)\n",
    "print('F1-мера:', f1_score(target_valid, predicted_valid))"
   ]
  },
  {
   "cell_type": "markdown",
   "metadata": {},
   "source": [
    "**Вывод:** Параметры наилучшей модели c учетом взвешивания классов. \n",
    "* Тип: логистическая регрессия\n",
    "* Точность 0.722\n",
    "* F1-критерий: 0.509\n"
   ]
  },
  {
   "cell_type": "markdown",
   "metadata": {},
   "source": [
    "### Up-sampling класса"
   ]
  },
  {
   "cell_type": "code",
   "execution_count": 25,
   "metadata": {},
   "outputs": [
    {
     "name": "stdout",
     "output_type": "stream",
     "text": [
      "F1: 0.5071496663489037\n",
      "1    0.508001\n",
      "0    0.491999\n",
      "Name: exited, dtype: float64\n"
     ]
    }
   ],
   "source": [
    "def upsample(features, target, repeat):\n",
    "    features_zeros = features[target == 0]\n",
    "    features_ones = features[target == 1]\n",
    "    target_zeros = target[target == 0]\n",
    "    target_ones = target[target == 1]\n",
    "\n",
    "    features_upsampled = pd.concat([features_zeros] + [features_ones] * repeat)\n",
    "    target_upsampled = pd.concat([target_zeros] + [target_ones] * repeat)\n",
    "    \n",
    "    features_upsampled, target_upsampled = shuffle(\n",
    "        features_upsampled, target_upsampled, random_state=12345)\n",
    "    \n",
    "    return features_upsampled, target_upsampled\n",
    "\n",
    "features_upsampled, target_upsampled = upsample(features_train, target_train, 4)\n",
    "\n",
    "model_us = LogisticRegression(random_state=12345, solver='lbfgs', max_iter=1000)\n",
    "model_us.fit(features_upsampled, target_upsampled)\n",
    "predicted_valid = model_us.predict(features_valid)\n",
    "\n",
    "print(\"F1:\", f1_score(target_valid, predicted_valid))\n",
    "print(target_upsampled.value_counts(normalize=True))"
   ]
  },
  {
   "cell_type": "markdown",
   "metadata": {},
   "source": [
    "### Down-sampling класса"
   ]
  },
  {
   "cell_type": "code",
   "execution_count": 26,
   "metadata": {},
   "outputs": [
    {
     "name": "stdout",
     "output_type": "stream",
     "text": [
      "Наилучший F1-критерий модели случайный лес на валидационной выборке: 0.5144508670520231\n",
      "1    0.507944\n",
      "0    0.492056\n",
      "Name: exited, dtype: float64\n"
     ]
    }
   ],
   "source": [
    "def downsample(features, target, fraction):\n",
    "    features_zeros = features[target == 0]\n",
    "    features_ones = features[target == 1]\n",
    "    target_zeros = target[target == 0]\n",
    "    target_ones = target[target == 1]\n",
    "\n",
    "    features_downsampled = pd.concat(\n",
    "        [features_zeros.sample(frac=fraction, random_state=12345)] + [features_ones])\n",
    "    target_downsampled = pd.concat(\n",
    "        [target_zeros.sample(frac=fraction, random_state=12345)] + [target_ones])\n",
    "    \n",
    "    features_downsampled, target_downsampled = shuffle(\n",
    "        features_downsampled, target_downsampled, random_state=12345)\n",
    "    \n",
    "    return features_downsampled, target_downsampled\n",
    "\n",
    "features_downsampled, target_downsampled = downsample(features_train, target_train, 0.25)\n",
    "\n",
    "\n",
    "\n",
    "model_ds = LogisticRegression(random_state=12345, solver='lbfgs', max_iter=1000)\n",
    "model_ds.fit(features_downsampled, target_downsampled)\n",
    "predicted_valid = model_ds.predict(features_valid)\n",
    "\n",
    "best_f1 = f1_score(target_valid, predicted_valid)\n",
    "print(\"Наилучший F1-критерий модели случайный лес на валидационной выборке:\", best_f1)\n",
    "print(target_downsampled.value_counts(normalize=True))"
   ]
  },
  {
   "cell_type": "markdown",
   "metadata": {},
   "source": [
    "Метод Down-sampling дал наилучшие результаты "
   ]
  },
  {
   "cell_type": "markdown",
   "metadata": {},
   "source": [
    "## Тестирование модели"
   ]
  },
  {
   "cell_type": "markdown",
   "metadata": {},
   "source": [
    "### Тестированиие оптимальной модели"
   ]
  },
  {
   "cell_type": "code",
   "execution_count": 27,
   "metadata": {},
   "outputs": [
    {
     "name": "stdout",
     "output_type": "stream",
     "text": [
      "Наилучший F1-критерий модели Случайный лес на валидационной выборке: 0.5\n"
     ]
    }
   ],
   "source": [
    "predicted_valid = model_ds.predict(features_test)\n",
    "\n",
    "best_f1 = f1_score(target_test, predicted_valid)\n",
    "print(\"Наилучший F1-критерий модели Случайный лес на валидационной выборке:\", best_f1)"
   ]
  },
  {
   "cell_type": "markdown",
   "metadata": {},
   "source": [
    "### Исследование метрики AUC-ROC"
   ]
  },
  {
   "cell_type": "code",
   "execution_count": 28,
   "metadata": {},
   "outputs": [
    {
     "name": "stdout",
     "output_type": "stream",
     "text": [
      "0.775489620497072\n"
     ]
    }
   ],
   "source": [
    "probabilities_valid = model_ds.predict_proba(features_test)\n",
    "probabilities_one_valid = probabilities_valid[:, 1]\n",
    "\n",
    "\n",
    "auc_roc = roc_auc_score(target_test, probabilities_one_valid)\n",
    "\n",
    "print(auc_roc)"
   ]
  },
  {
   "cell_type": "code",
   "execution_count": 29,
   "metadata": {},
   "outputs": [
    {
     "data": {
      "image/png": "[encoded data removed]",
      "text/plain": [
       "<Figure size 432x432 with 1 Axes>"
      ]
     },
     "metadata": {
      "needs_background": "light"
     },
     "output_type": "display_data"
    }
   ],
   "source": [
    "\n",
    "precision, recall, thresholds = precision_recall_curve(target_test, probabilities_one_valid)\n",
    "\n",
    "plt.figure(figsize=(6, 6))\n",
    "plt.step(recall, precision, where='post')\n",
    "plt.xlabel('Recall')\n",
    "plt.ylabel('Precision')\n",
    "plt.ylim([0.0, 1.05])\n",
    "plt.xlim([0.0, 1.0])\n",
    "plt.title('Кривая Precision-Recall')\n",
    "plt.show() "
   ]
  },
  {
   "cell_type": "markdown",
   "metadata": {},
   "source": [
    "## Выводы ##"
   ]
  },
  {
   "cell_type": "markdown",
   "metadata": {},
   "source": [
    "1. Исходная выборка состоит из 10000 записей. После очистки от пропущенных значений в выборке осталось 9091 \n",
    "2. В выборке были как категориальные переменные так и числовые переменные в разном масштабе. \n",
    "3. Проведено кодирование категориальных переменных, масштабирование числовых переменных. Приведение названия столбцов к стандартному виду.\n",
    "4. Выборка была разбита в соотношении обучающая:валидационная:тестовая как 60:20:20\n",
    "5. В рамках задачи классификации рассмотрены модели:\n",
    "- Логистической регрессии.\n",
    "- Дерево решений;\n",
    "\n",
    "6. F1-критерий для моделей:\n",
    "- Логиcтическая регрессия -0,326\n",
    "- Дерево решений - 0,475\n",
    "8. В классе ответов есть перекос негативные:позитивные = 80:20 \n",
    "9. Выполнена корректировка дисбаланса классов. Для этого использованы методы:\n",
    " - Взвешивание классов через параметр class_weight='balanced' при обучении моделей\n",
    " - Up-sampling\n",
    " - Down-sampling\n",
    "\n",
    "10. На валидационной выборке наилучшие значения были получены при Down-sampling методе F1=0,514. \n",
    " - для метода Up-sampling F1= 0,507\n",
    " - для метода class_weight='balanced' F1=0,509\n",
    " \n",
    "11. На тестовой выборке для модели \"Линейной регресии\" с учетом Down-sampling метода получено значение F1=0,5. При этом AUC-ROC = 0,77.  "
   ]
  },
  {
   "cell_type": "markdown",
   "metadata": {},
   "source": [
    "## Чек-лист готовности проекта"
   ]
  },
  {
   "cell_type": "markdown",
   "metadata": {},
   "source": [
    "Поставьте 'x' в выполненных пунктах. Далее нажмите Shift+Enter."
   ]
  },
  {
   "cell_type": "markdown",
   "metadata": {},
   "source": [
    "- [x]  Jupyter Notebook открыт\n",
    "- [x]  Весь код выполняется без ошибок\n",
    "- [x]  Ячейки с кодом расположены в порядке исполнения\n",
    "- [x]  Выполнен шаг 1: данные подготовлены\n",
    "- [x]  Выполнен шаг 2: задача исследована\n",
    "    - [x]  Исследован баланс классов\n",
    "    - [x]  Изучены модели без учёта дисбаланса\n",
    "    - [x]  Написаны выводы по результатам исследования\n",
    "- [x]  Выполнен шаг 3: учтён дисбаланс\n",
    "    - [x]  Применено несколько способов борьбы с дисбалансом\n",
    "    - [x]  Написаны выводы по результатам исследования\n",
    "- [x]  Выполнен шаг 4: проведено тестирование\n",
    "- [x]  Удалось достичь *F1*-меры не менее 0.59\n",
    "- [x]  Исследована метрика *AUC-ROC*"
   ]
  }
 ],
 "metadata": {
  "ExecuteTimeLog": [
   {
    "duration": 422,
    "start_time": "2022-10-25T11:39:34.054Z"
   },
   {
    "duration": 109,
    "start_time": "2022-10-25T11:39:35.919Z"
   },
   {
    "duration": 12,
    "start_time": "2022-10-25T11:39:38.834Z"
   },
   {
    "duration": 836,
    "start_time": "2022-10-25T11:43:49.289Z"
   },
   {
    "duration": 5,
    "start_time": "2022-10-25T11:44:01.112Z"
   },
   {
    "duration": 9,
    "start_time": "2022-10-25T11:56:29.827Z"
   },
   {
    "duration": 12,
    "start_time": "2022-10-25T11:56:45.995Z"
   },
   {
    "duration": 4,
    "start_time": "2022-10-25T12:03:14.591Z"
   },
   {
    "duration": 11,
    "start_time": "2022-10-25T12:03:16.457Z"
   },
   {
    "duration": 846,
    "start_time": "2022-10-25T12:24:22.142Z"
   },
   {
    "duration": 4,
    "start_time": "2022-10-25T12:25:06.700Z"
   },
   {
    "duration": 50,
    "start_time": "2022-10-25T12:25:13.628Z"
   },
   {
    "duration": 5,
    "start_time": "2022-10-25T12:25:19.391Z"
   },
   {
    "duration": 71,
    "start_time": "2022-10-25T12:26:16.939Z"
   },
   {
    "duration": 5,
    "start_time": "2022-10-25T12:26:40.267Z"
   },
   {
    "duration": 8,
    "start_time": "2022-10-25T12:29:55.088Z"
   },
   {
    "duration": 5,
    "start_time": "2022-10-25T12:30:07.592Z"
   },
   {
    "duration": 12,
    "start_time": "2022-10-25T12:32:18.694Z"
   },
   {
    "duration": 5,
    "start_time": "2022-10-25T12:32:32.821Z"
   },
   {
    "duration": 11,
    "start_time": "2022-10-25T12:33:19.829Z"
   },
   {
    "duration": 4,
    "start_time": "2022-10-25T12:34:59.156Z"
   },
   {
    "duration": 4,
    "start_time": "2022-10-25T12:35:07.544Z"
   },
   {
    "duration": 14,
    "start_time": "2022-10-25T12:35:09.170Z"
   },
   {
    "duration": 4,
    "start_time": "2022-10-25T12:36:00.867Z"
   },
   {
    "duration": 4,
    "start_time": "2022-10-25T12:37:48.827Z"
   },
   {
    "duration": 624,
    "start_time": "2022-10-25T12:37:50.452Z"
   },
   {
    "duration": 10,
    "start_time": "2022-10-25T12:38:16.011Z"
   },
   {
    "duration": 4,
    "start_time": "2022-10-25T12:38:23.467Z"
   },
   {
    "duration": 62,
    "start_time": "2022-10-25T12:38:25.244Z"
   },
   {
    "duration": 16,
    "start_time": "2022-10-25T12:38:28.651Z"
   },
   {
    "duration": 5,
    "start_time": "2022-10-25T12:38:30.844Z"
   },
   {
    "duration": 17,
    "start_time": "2022-10-25T12:38:33.043Z"
   },
   {
    "duration": 5,
    "start_time": "2022-10-25T12:38:37.268Z"
   },
   {
    "duration": 17,
    "start_time": "2022-10-25T14:03:33.752Z"
   },
   {
    "duration": 9,
    "start_time": "2022-10-25T14:03:36.707Z"
   },
   {
    "duration": 12,
    "start_time": "2022-10-25T14:03:38.362Z"
   },
   {
    "duration": 1059,
    "start_time": "2022-10-26T05:37:24.143Z"
   },
   {
    "duration": 118,
    "start_time": "2022-10-26T05:37:27.703Z"
   },
   {
    "duration": 13,
    "start_time": "2022-10-26T05:37:33.095Z"
   },
   {
    "duration": 4,
    "start_time": "2022-10-26T05:37:55.536Z"
   },
   {
    "duration": 13,
    "start_time": "2022-10-26T05:37:57.471Z"
   },
   {
    "duration": 10,
    "start_time": "2022-10-26T05:38:08.992Z"
   },
   {
    "duration": 13,
    "start_time": "2022-10-26T05:38:10.775Z"
   },
   {
    "duration": 4,
    "start_time": "2022-10-26T05:48:04.579Z"
   },
   {
    "duration": 11,
    "start_time": "2022-10-26T05:48:12.634Z"
   },
   {
    "duration": 11,
    "start_time": "2022-10-26T05:53:48.212Z"
   },
   {
    "duration": 19,
    "start_time": "2022-10-26T05:54:26.356Z"
   },
   {
    "duration": 14,
    "start_time": "2022-10-26T05:54:44.652Z"
   },
   {
    "duration": 18,
    "start_time": "2022-10-26T05:58:17.477Z"
   },
   {
    "duration": 96,
    "start_time": "2022-10-26T06:01:15.477Z"
   },
   {
    "duration": 4,
    "start_time": "2022-10-26T06:05:54.002Z"
   },
   {
    "duration": 17,
    "start_time": "2022-10-26T06:06:01.938Z"
   },
   {
    "duration": 27,
    "start_time": "2022-10-26T06:06:49.315Z"
   },
   {
    "duration": 8,
    "start_time": "2022-10-26T06:07:34.461Z"
   },
   {
    "duration": 5,
    "start_time": "2022-10-26T06:07:58.672Z"
   },
   {
    "duration": 12,
    "start_time": "2022-10-26T06:45:42.396Z"
   },
   {
    "duration": 2,
    "start_time": "2022-10-26T06:45:48.609Z"
   },
   {
    "duration": 5,
    "start_time": "2022-10-26T06:46:55.049Z"
   },
   {
    "duration": 8,
    "start_time": "2022-10-26T06:46:57.161Z"
   },
   {
    "duration": 4,
    "start_time": "2022-10-26T06:46:59.177Z"
   },
   {
    "duration": 4,
    "start_time": "2022-10-26T06:47:00.936Z"
   },
   {
    "duration": 4,
    "start_time": "2022-10-26T06:47:02.536Z"
   },
   {
    "duration": 89,
    "start_time": "2022-10-26T06:57:17.105Z"
   },
   {
    "duration": 464,
    "start_time": "2022-10-26T06:57:21.257Z"
   },
   {
    "duration": 123,
    "start_time": "2022-10-26T06:57:28.265Z"
   },
   {
    "duration": 103,
    "start_time": "2022-10-26T06:58:38.400Z"
   },
   {
    "duration": 113,
    "start_time": "2022-10-26T07:01:27.482Z"
   },
   {
    "duration": 107,
    "start_time": "2022-10-26T07:12:15.908Z"
   },
   {
    "duration": 6,
    "start_time": "2022-10-26T07:40:43.566Z"
   },
   {
    "duration": 412,
    "start_time": "2022-10-26T07:42:05.140Z"
   },
   {
    "duration": 258,
    "start_time": "2022-10-26T07:42:19.688Z"
   },
   {
    "duration": 337,
    "start_time": "2022-10-26T07:42:33.503Z"
   },
   {
    "duration": 797,
    "start_time": "2022-10-26T07:43:44.744Z"
   },
   {
    "duration": 34,
    "start_time": "2022-10-26T07:44:09.199Z"
   },
   {
    "duration": 1380,
    "start_time": "2022-10-26T07:48:19.839Z"
   },
   {
    "duration": 1431,
    "start_time": "2022-10-26T07:50:38.011Z"
   },
   {
    "duration": 2073,
    "start_time": "2022-10-26T07:57:45.807Z"
   },
   {
    "duration": 12957,
    "start_time": "2022-10-26T07:58:22.775Z"
   },
   {
    "duration": 12616,
    "start_time": "2022-10-26T07:59:00.568Z"
   },
   {
    "duration": 525,
    "start_time": "2022-10-26T08:05:51.212Z"
   },
   {
    "duration": 37,
    "start_time": "2022-10-26T08:05:53.804Z"
   },
   {
    "duration": 12908,
    "start_time": "2022-10-26T08:05:58.011Z"
   },
   {
    "duration": 12088,
    "start_time": "2022-10-26T08:16:10.871Z"
   },
   {
    "duration": 12431,
    "start_time": "2022-10-26T08:18:53.386Z"
   },
   {
    "duration": 12428,
    "start_time": "2022-10-26T08:19:09.549Z"
   },
   {
    "duration": 95,
    "start_time": "2022-10-26T08:20:25.753Z"
   },
   {
    "duration": 4,
    "start_time": "2022-10-26T08:36:20.645Z"
   },
   {
    "duration": 478,
    "start_time": "2022-10-26T08:44:40.161Z"
   },
   {
    "duration": 147,
    "start_time": "2022-10-26T08:44:45.310Z"
   },
   {
    "duration": 408,
    "start_time": "2022-10-26T08:45:46.542Z"
   },
   {
    "duration": 128,
    "start_time": "2022-10-26T08:45:48.664Z"
   },
   {
    "duration": 29,
    "start_time": "2022-10-26T08:50:14.342Z"
   },
   {
    "duration": 31,
    "start_time": "2022-10-26T08:55:41.191Z"
   },
   {
    "duration": 4,
    "start_time": "2022-10-26T08:56:05.046Z"
   },
   {
    "duration": 26,
    "start_time": "2022-10-26T08:56:10.999Z"
   },
   {
    "duration": 4,
    "start_time": "2022-10-26T08:57:31.855Z"
   },
   {
    "duration": 12,
    "start_time": "2022-10-26T08:58:11.749Z"
   },
   {
    "duration": 4,
    "start_time": "2022-10-26T08:58:46.752Z"
   },
   {
    "duration": 97,
    "start_time": "2022-10-26T08:58:53.808Z"
   },
   {
    "duration": 117,
    "start_time": "2022-10-26T08:59:01.808Z"
   },
   {
    "duration": 47,
    "start_time": "2022-10-26T09:00:57.308Z"
   },
   {
    "duration": 27,
    "start_time": "2022-10-26T09:02:10.772Z"
   },
   {
    "duration": 36,
    "start_time": "2022-10-26T09:02:38.847Z"
   },
   {
    "duration": 9,
    "start_time": "2022-10-26T09:03:38.877Z"
   },
   {
    "duration": 26,
    "start_time": "2022-10-26T09:06:11.346Z"
   },
   {
    "duration": 13,
    "start_time": "2022-10-26T09:06:44.909Z"
   },
   {
    "duration": 118,
    "start_time": "2022-10-26T09:06:59.685Z"
   },
   {
    "duration": 308,
    "start_time": "2022-10-26T09:38:24.569Z"
   },
   {
    "duration": 154,
    "start_time": "2022-10-26T09:38:57.440Z"
   },
   {
    "duration": 306,
    "start_time": "2022-10-26T09:40:16.254Z"
   },
   {
    "duration": 137,
    "start_time": "2022-10-26T09:40:41.094Z"
   },
   {
    "duration": 49,
    "start_time": "2022-10-26T13:26:47.966Z"
   },
   {
    "duration": 1480,
    "start_time": "2022-10-26T13:26:57.411Z"
   },
   {
    "duration": 98,
    "start_time": "2022-10-26T13:27:01.747Z"
   },
   {
    "duration": 13,
    "start_time": "2022-10-26T13:27:04.634Z"
   },
   {
    "duration": 4,
    "start_time": "2022-10-26T13:27:06.586Z"
   },
   {
    "duration": 12,
    "start_time": "2022-10-26T13:27:08.106Z"
   },
   {
    "duration": 9,
    "start_time": "2022-10-26T13:27:09.866Z"
   },
   {
    "duration": 12,
    "start_time": "2022-10-26T13:27:10.715Z"
   },
   {
    "duration": 5,
    "start_time": "2022-10-26T13:27:12.659Z"
   },
   {
    "duration": 11,
    "start_time": "2022-10-26T13:27:14.043Z"
   },
   {
    "duration": 26,
    "start_time": "2022-10-26T13:27:16.426Z"
   },
   {
    "duration": 19,
    "start_time": "2022-10-26T13:27:17.363Z"
   },
   {
    "duration": 20,
    "start_time": "2022-10-26T13:27:19.069Z"
   },
   {
    "duration": 2,
    "start_time": "2022-10-26T13:27:20.604Z"
   },
   {
    "duration": 5,
    "start_time": "2022-10-26T13:27:22.234Z"
   },
   {
    "duration": 6,
    "start_time": "2022-10-26T13:27:23.332Z"
   },
   {
    "duration": 3,
    "start_time": "2022-10-26T13:27:24.995Z"
   },
   {
    "duration": 3,
    "start_time": "2022-10-26T13:27:26.571Z"
   },
   {
    "duration": 3,
    "start_time": "2022-10-26T13:27:27.539Z"
   },
   {
    "duration": 114,
    "start_time": "2022-10-26T13:27:29.619Z"
   },
   {
    "duration": 248,
    "start_time": "2022-10-26T13:27:33.187Z"
   },
   {
    "duration": 33,
    "start_time": "2022-10-26T13:27:41.955Z"
   },
   {
    "duration": 11968,
    "start_time": "2022-10-26T13:27:49.043Z"
   },
   {
    "duration": 12150,
    "start_time": "2022-10-26T13:28:19.854Z"
   },
   {
    "duration": 297,
    "start_time": "2022-10-26T13:28:45.139Z"
   },
   {
    "duration": 137,
    "start_time": "2022-10-26T13:28:49.995Z"
   },
   {
    "duration": 27,
    "start_time": "2022-10-26T13:28:54.923Z"
   },
   {
    "duration": 26,
    "start_time": "2022-10-26T13:29:01.132Z"
   },
   {
    "duration": 27,
    "start_time": "2022-10-26T13:29:03.300Z"
   },
   {
    "duration": 73,
    "start_time": "2022-10-26T13:29:54.548Z"
   },
   {
    "duration": 9,
    "start_time": "2022-10-26T13:30:11.740Z"
   },
   {
    "duration": 3,
    "start_time": "2022-10-26T13:30:33.264Z"
   },
   {
    "duration": 26,
    "start_time": "2022-10-26T13:30:49.580Z"
   },
   {
    "duration": 5,
    "start_time": "2022-10-26T13:30:51.644Z"
   },
   {
    "duration": 3,
    "start_time": "2022-10-26T13:32:16.381Z"
   },
   {
    "duration": 310,
    "start_time": "2022-10-26T13:32:18.828Z"
   },
   {
    "duration": 2,
    "start_time": "2022-10-26T13:32:38.420Z"
   },
   {
    "duration": 10,
    "start_time": "2022-10-26T13:32:40.012Z"
   },
   {
    "duration": 3,
    "start_time": "2022-10-26T13:32:51.389Z"
   },
   {
    "duration": 10,
    "start_time": "2022-10-26T13:32:53.388Z"
   },
   {
    "duration": 230,
    "start_time": "2022-10-26T13:33:03.908Z"
   },
   {
    "duration": 2,
    "start_time": "2022-10-26T13:33:07.915Z"
   },
   {
    "duration": 259,
    "start_time": "2022-10-26T13:33:10.478Z"
   },
   {
    "duration": 3,
    "start_time": "2022-10-26T13:33:25.533Z"
   },
   {
    "duration": 248,
    "start_time": "2022-10-26T13:33:27.188Z"
   },
   {
    "duration": 3,
    "start_time": "2022-10-26T13:33:45.677Z"
   },
   {
    "duration": 4,
    "start_time": "2022-10-26T13:33:53.180Z"
   },
   {
    "duration": 132,
    "start_time": "2022-10-26T13:34:20.805Z"
   },
   {
    "duration": 1283,
    "start_time": "2022-10-26T13:53:48.131Z"
   },
   {
    "duration": 56,
    "start_time": "2022-10-26T13:53:49.416Z"
   },
   {
    "duration": 13,
    "start_time": "2022-10-26T13:53:49.476Z"
   },
   {
    "duration": 4,
    "start_time": "2022-10-26T13:53:49.490Z"
   },
   {
    "duration": 14,
    "start_time": "2022-10-26T13:53:49.496Z"
   },
   {
    "duration": 7,
    "start_time": "2022-10-26T13:53:49.511Z"
   },
   {
    "duration": 20,
    "start_time": "2022-10-26T13:53:49.520Z"
   },
   {
    "duration": 4,
    "start_time": "2022-10-26T13:53:49.541Z"
   },
   {
    "duration": 13,
    "start_time": "2022-10-26T13:53:49.548Z"
   },
   {
    "duration": 23,
    "start_time": "2022-10-26T13:53:49.562Z"
   },
   {
    "duration": 18,
    "start_time": "2022-10-26T13:53:49.586Z"
   },
   {
    "duration": 39,
    "start_time": "2022-10-26T13:53:49.605Z"
   },
   {
    "duration": 2,
    "start_time": "2022-10-26T13:53:49.645Z"
   },
   {
    "duration": 14,
    "start_time": "2022-10-26T13:53:49.649Z"
   },
   {
    "duration": 9,
    "start_time": "2022-10-26T13:53:49.664Z"
   },
   {
    "duration": 6,
    "start_time": "2022-10-26T13:53:49.675Z"
   },
   {
    "duration": 12,
    "start_time": "2022-10-26T13:53:49.683Z"
   },
   {
    "duration": 6,
    "start_time": "2022-10-26T13:53:49.697Z"
   },
   {
    "duration": 136,
    "start_time": "2022-10-26T13:53:49.704Z"
   },
   {
    "duration": 293,
    "start_time": "2022-10-26T13:53:49.842Z"
   },
   {
    "duration": 123,
    "start_time": "2022-10-26T13:53:50.137Z"
   },
   {
    "duration": 11973,
    "start_time": "2022-10-26T13:53:50.262Z"
   },
   {
    "duration": 11994,
    "start_time": "2022-10-26T13:54:02.237Z"
   },
   {
    "duration": 305,
    "start_time": "2022-10-26T13:54:14.233Z"
   },
   {
    "duration": 149,
    "start_time": "2022-10-26T13:54:14.539Z"
   },
   {
    "duration": 24,
    "start_time": "2022-10-26T13:54:14.689Z"
   },
   {
    "duration": 34,
    "start_time": "2022-10-26T13:54:14.716Z"
   },
   {
    "duration": 125,
    "start_time": "2022-10-26T13:54:14.751Z"
   },
   {
    "duration": 12421,
    "start_time": "2022-10-26T14:04:23.005Z"
   },
   {
    "duration": 27,
    "start_time": "2022-10-26T14:04:41.604Z"
   },
   {
    "duration": 12358,
    "start_time": "2022-10-26T14:05:32.957Z"
   },
   {
    "duration": 12389,
    "start_time": "2022-10-26T14:06:07.566Z"
   },
   {
    "duration": 12457,
    "start_time": "2022-10-26T14:06:45.046Z"
   },
   {
    "duration": 37,
    "start_time": "2022-10-26T14:09:09.006Z"
   },
   {
    "duration": 24,
    "start_time": "2022-10-26T14:09:11.038Z"
   },
   {
    "duration": 61,
    "start_time": "2022-10-27T05:45:23.257Z"
   },
   {
    "duration": 1669,
    "start_time": "2022-10-27T05:45:34.660Z"
   },
   {
    "duration": 209,
    "start_time": "2022-10-27T05:45:36.331Z"
   },
   {
    "duration": 17,
    "start_time": "2022-10-27T05:45:36.542Z"
   },
   {
    "duration": 5,
    "start_time": "2022-10-27T05:45:36.561Z"
   },
   {
    "duration": 15,
    "start_time": "2022-10-27T05:45:36.569Z"
   },
   {
    "duration": 16,
    "start_time": "2022-10-27T05:45:36.587Z"
   },
   {
    "duration": 20,
    "start_time": "2022-10-27T05:45:36.608Z"
   },
   {
    "duration": 6,
    "start_time": "2022-10-27T05:45:36.630Z"
   },
   {
    "duration": 16,
    "start_time": "2022-10-27T05:45:36.637Z"
   },
   {
    "duration": 43,
    "start_time": "2022-10-27T05:45:36.656Z"
   },
   {
    "duration": 28,
    "start_time": "2022-10-27T05:45:36.706Z"
   },
   {
    "duration": 29,
    "start_time": "2022-10-27T05:45:36.737Z"
   },
   {
    "duration": 5,
    "start_time": "2022-10-27T05:45:36.768Z"
   },
   {
    "duration": 21,
    "start_time": "2022-10-27T05:45:36.776Z"
   },
   {
    "duration": 9,
    "start_time": "2022-10-27T05:45:36.798Z"
   },
   {
    "duration": 4,
    "start_time": "2022-10-27T05:45:36.811Z"
   },
   {
    "duration": 5,
    "start_time": "2022-10-27T05:45:36.817Z"
   },
   {
    "duration": 6,
    "start_time": "2022-10-27T05:45:36.824Z"
   },
   {
    "duration": 194,
    "start_time": "2022-10-27T05:45:36.833Z"
   },
   {
    "duration": 367,
    "start_time": "2022-10-27T05:45:37.029Z"
   },
   {
    "duration": 15,
    "start_time": "2022-10-27T05:45:37.398Z"
   },
   {
    "duration": 191,
    "start_time": "2022-10-27T05:45:37.415Z"
   },
   {
    "duration": 13248,
    "start_time": "2022-10-27T05:45:37.608Z"
   },
   {
    "duration": 36,
    "start_time": "2022-10-27T05:45:50.858Z"
   },
   {
    "duration": 13388,
    "start_time": "2022-10-27T05:45:50.899Z"
   },
   {
    "duration": 345,
    "start_time": "2022-10-27T05:46:04.299Z"
   },
   {
    "duration": 164,
    "start_time": "2022-10-27T05:46:04.646Z"
   },
   {
    "duration": 26,
    "start_time": "2022-10-27T05:46:04.816Z"
   },
   {
    "duration": 26,
    "start_time": "2022-10-27T05:46:04.844Z"
   },
   {
    "duration": 142,
    "start_time": "2022-10-27T05:46:04.891Z"
   },
   {
    "duration": 190,
    "start_time": "2022-10-27T05:47:11.164Z"
   },
   {
    "duration": 139,
    "start_time": "2022-10-27T05:50:55.488Z"
   },
   {
    "duration": 1471,
    "start_time": "2022-10-27T06:08:38.948Z"
   },
   {
    "duration": 67,
    "start_time": "2022-10-27T06:08:40.421Z"
   },
   {
    "duration": 18,
    "start_time": "2022-10-27T06:08:40.491Z"
   },
   {
    "duration": 5,
    "start_time": "2022-10-27T06:08:40.511Z"
   },
   {
    "duration": 18,
    "start_time": "2022-10-27T06:08:40.518Z"
   },
   {
    "duration": 10,
    "start_time": "2022-10-27T06:08:40.539Z"
   },
   {
    "duration": 41,
    "start_time": "2022-10-27T06:08:40.553Z"
   },
   {
    "duration": 7,
    "start_time": "2022-10-27T06:08:40.597Z"
   },
   {
    "duration": 21,
    "start_time": "2022-10-27T06:08:40.606Z"
   },
   {
    "duration": 30,
    "start_time": "2022-10-27T06:08:40.631Z"
   },
   {
    "duration": 50,
    "start_time": "2022-10-27T06:08:40.664Z"
   },
   {
    "duration": 29,
    "start_time": "2022-10-27T06:08:40.716Z"
   },
   {
    "duration": 3,
    "start_time": "2022-10-27T06:08:40.748Z"
   },
   {
    "duration": 11,
    "start_time": "2022-10-27T06:08:40.754Z"
   },
   {
    "duration": 26,
    "start_time": "2022-10-27T06:08:40.767Z"
   },
   {
    "duration": 4,
    "start_time": "2022-10-27T06:08:40.795Z"
   },
   {
    "duration": 8,
    "start_time": "2022-10-27T06:08:40.801Z"
   },
   {
    "duration": 5,
    "start_time": "2022-10-27T06:08:40.811Z"
   },
   {
    "duration": 213,
    "start_time": "2022-10-27T06:08:40.819Z"
   },
   {
    "duration": 86,
    "start_time": "2022-10-27T06:08:41.034Z"
   },
   {
    "duration": 74,
    "start_time": "2022-10-27T06:08:41.123Z"
   },
   {
    "duration": 112,
    "start_time": "2022-10-27T06:08:41.199Z"
   },
   {
    "duration": 14652,
    "start_time": "2022-10-27T06:08:41.391Z"
   },
   {
    "duration": 27,
    "start_time": "2022-10-27T06:08:56.045Z"
   },
   {
    "duration": 14062,
    "start_time": "2022-10-27T06:08:56.074Z"
   },
   {
    "duration": 307,
    "start_time": "2022-10-27T06:09:10.139Z"
   },
   {
    "duration": 145,
    "start_time": "2022-10-27T06:09:10.448Z"
   },
   {
    "duration": 34,
    "start_time": "2022-10-27T06:09:10.596Z"
   },
   {
    "duration": 35,
    "start_time": "2022-10-27T06:09:10.633Z"
   },
   {
    "duration": 210,
    "start_time": "2022-10-27T06:09:10.670Z"
   }
  ],
  "kernelspec": {
   "display_name": "Python 3 (ipykernel)",
   "language": "python",
   "name": "python3"
  },
  "language_info": {
   "codemirror_mode": {
    "name": "ipython",
    "version": 3
   },
   "file_extension": ".py",
   "mimetype": "text/x-python",
   "name": "python",
   "nbconvert_exporter": "python",
   "pygments_lexer": "ipython3",
   "version": "3.9.12"
  },
  "toc": {
   "base_numbering": 1,
   "nav_menu": {},
   "number_sections": true,
   "sideBar": true,
   "skip_h1_title": true,
   "title_cell": "Содержание",
   "title_sidebar": "Contents",
   "toc_cell": true,
   "toc_position": {},
   "toc_section_display": true,
   "toc_window_display": true
  }
 },
 "nbformat": 4,
 "nbformat_minor": 2
}
